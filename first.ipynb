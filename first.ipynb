{
 "cells": [
  {
   "cell_type": "code",
   "execution_count": null,
   "metadata": {},
   "outputs": [
    {
     "ename": "",
     "evalue": "",
     "output_type": "error",
     "traceback": [
      "\u001b[1;31mRunning cells with 'c:\\Users\\Dhananjai sharma\\AppData\\Local\\Microsoft\\WindowsApps\\python3.9.exe' requires the ipykernel package.\n",
      "\u001b[1;31mRun the following command to install 'ipykernel' into the Python environment. \n",
      "\u001b[1;31mCommand: '\"c:/Users/Dhananjai sharma/AppData/Local/Microsoft/WindowsApps/python3.9.exe\" -m pip install ipykernel -U --user --force-reinstall'"
     ]
    }
   ],
   "source": [
    "#packet sniffer \n",
    "import scapy.all as scapy\n",
    "import argparse\n",
    "from scapy.layers import http\n",
    "import colorama\n",
    "from colorama import Fore\n",
    "\n",
    "def get_interface():\n",
    "    parser = argparse.ArgumentParser()\n",
    "    parser.add_argument('-f')\n",
    "    parser.add_argument(\"-i\", \"--interface\", dest=\"interface\", help=\"tell where interface is\")\n",
    "    arguments = parser.parse_args()\n",
    "    return arguments.interface\n",
    "\n",
    "def sniff(iface):\n",
    "    scapy.sniff(iface=iface, store=False, prn=process_packet)\n",
    "\n",
    "def process_packet(packet):\n",
    "    if packet.haslayer(http.HTTPRequest):\n",
    "        print(\"[+] HTTP request start >> \")\n",
    "        packet.show()\n",
    "        print(\">> HTTP request over [+]\\n\\n\\n\")\n",
    "#         if  packet.haslayer(scapy.Raw):\n",
    "#             load = packet[scapy.Raw].load\n",
    "#             print(Fore.GREEN + \"\\n\\n\\n raw data >> \" + load.decode('utf-8') + \"\\n\\n\\n\")\n",
    "iface = get_interface()\n",
    "sniff(iface)"
   ]
  },
  {
   "cell_type": "code",
   "execution_count": null,
   "id": "cc2cff31",
   "metadata": {},
   "outputs": [],
   "source": []
  }
 ],
 "metadata": {
  "kernelspec": {
   "display_name": "Python 3",
   "language": "python",
   "name": "python3"
  },
  "language_info": {
   "name": "python",
   "version": "3.9.13"
  }
 },
 "nbformat": 4,
 "nbformat_minor": 5
}
